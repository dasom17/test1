{
  "nbformat": 4,
  "nbformat_minor": 0,
  "metadata": {
    "colab": {
      "provenance": [],
      "authorship_tag": "ABX9TyPM+i/5F2faZ3eJTJoKmoqb",
      "include_colab_link": true
    },
    "kernelspec": {
      "name": "python3",
      "display_name": "Python 3"
    },
    "language_info": {
      "name": "python"
    }
  },
  "cells": [
    {
      "cell_type": "markdown",
      "metadata": {
        "id": "view-in-github",
        "colab_type": "text"
      },
      "source": [
        "<a href=\"https://colab.research.google.com/github/dasom17/test1/blob/main/22_2_py_cen.ipynb\" target=\"_parent\"><img src=\"https://colab.research.google.com/assets/colab-badge.svg\" alt=\"Open In Colab\"/></a>"
      ]
    },
    {
      "cell_type": "code",
      "source": [
        "다음 보기의 사칙연산을 완성하시오. (한줄에 모두, 여러줄로 나누어서, 보기 좋게 정리하시오.)\n",
        "보기: 1  +  2, 2 - 3, 3 * 4, 4 / 4"
      ],
      "metadata": {
        "id": "JRlN8H0CTk_h"
      },
      "execution_count": null,
      "outputs": []
    },
    {
      "cell_type": "code",
      "source": [
        "print(1+2, 2-3, 3*4, 4/4)\n",
        "print(1+2)\n",
        "print(2-3)\n",
        "print(3*4)\n",
        "print(4/4)"
      ],
      "metadata": {
        "colab": {
          "base_uri": "https://localhost:8080/"
        },
        "id": "7j8SY9SKUJ4c",
        "outputId": "e7951e16-048d-4f6b-9738-f87d3cc947c5"
      },
      "execution_count": null,
      "outputs": [
        {
          "output_type": "stream",
          "name": "stdout",
          "text": [
            "3 -1 12 1.0\n",
            "3\n",
            "-1\n",
            "12\n",
            "1.0\n"
          ]
        }
      ]
    },
    {
      "cell_type": "markdown",
      "source": [
        "아래의 출력화면을 간결하고 보기좋게 코딩하시오.\n",
        "\n",
        "****************************************\n",
        "* 제1조 1항 대한민국은민주공화국이다. *\n",
        "****************************************"
      ],
      "metadata": {
        "id": "Yw0mki3WU0Rs"
      }
    },
    {
      "cell_type": "code",
      "source": [
        "print(\"*\" * 40)\n",
        "print(\"* 제1조 1항 대한민국은민주공화국이다. *\")\n",
        "print(\"*\" * 40)"
      ],
      "metadata": {
        "colab": {
          "base_uri": "https://localhost:8080/"
        },
        "id": "echCys8CVCg-",
        "outputId": "4315d807-5ef4-4d74-d5a6-6531bdbd6758"
      },
      "execution_count": null,
      "outputs": [
        {
          "output_type": "stream",
          "name": "stdout",
          "text": [
            "****************************************\n",
            "* 제1조 1항 대한민국은민주공화국이다. *\n",
            "****************************************\n"
          ]
        }
      ]
    },
    {
      "cell_type": "markdown",
      "source": [
        "사용자에게 성명, 나이, 주소를 입력받아서 출력하라."
      ],
      "metadata": {
        "id": "Pcl-4A2XWBsg"
      }
    },
    {
      "cell_type": "code",
      "source": [
        "name = input(\"성명을 입력하세요.\")\n",
        "age = input(\"나이를 입력하세요.\")\n",
        "addr = input(\"주소를 입력하세요\")\n",
        "print(name)\n",
        "print(age)\n",
        "print(addr)\n",
        "print(name, age, addr)"
      ],
      "metadata": {
        "colab": {
          "base_uri": "https://localhost:8080/"
        },
        "id": "tFFSzfLaWHpj",
        "outputId": "7ab8fac9-f51c-433d-8f0f-a09eda053cde"
      },
      "execution_count": null,
      "outputs": [
        {
          "output_type": "stream",
          "name": "stdout",
          "text": [
            "성명을 입력하세요.노다솜\n",
            "나이를 입력하세요.20\n",
            "주소를 입력하세요전북  군산시 영명길\n",
            "노다솜\n",
            "20\n",
            "전북  군산시 영명길\n",
            "노다솜 20 전북  군산시 영명길\n"
          ]
        }
      ]
    },
    {
      "cell_type": "markdown",
      "source": [
        "결과 깔끔하게 나오면 추가점수"
      ],
      "metadata": {
        "id": "YAs_AzR6XaoX"
      }
    },
    {
      "cell_type": "code",
      "source": [
        "name = input(\"성명을 입력하세요.\")\n",
        "\n",
        "print(name)\n",
        "\n",
        "print(name, age, addr)"
      ],
      "metadata": {
        "colab": {
          "base_uri": "https://localhost:8080/",
          "height": 137
        },
        "id": "iOeXWHRRXfQn",
        "outputId": "06273861-9a73-4e4f-f101-c7fa1bf077af"
      },
      "execution_count": null,
      "outputs": [
        {
          "output_type": "error",
          "ename": "SyntaxError",
          "evalue": "ignored",
          "traceback": [
            "\u001b[0;36m  File \u001b[0;32m\"<ipython-input-9-07e66b4cb8b9>\"\u001b[0;36m, line \u001b[0;32m4\u001b[0m\n\u001b[0;31m    print(\"이름은 \"name\"입니다.\")\u001b[0m\n\u001b[0m                   ^\u001b[0m\n\u001b[0;31mSyntaxError\u001b[0m\u001b[0;31m:\u001b[0m invalid syntax\n"
          ]
        }
      ]
    },
    {
      "cell_type": "markdown",
      "source": [
        "터틀그래픽 사용법에 대해서 코딩하고 설명하시오."
      ],
      "metadata": {
        "id": "QRUIFYF6WIhH"
      }
    },
    {
      "cell_type": "code",
      "source": [],
      "metadata": {
        "id": "Km-jE_GmWMrh"
      },
      "execution_count": null,
      "outputs": []
    }
  ]
}